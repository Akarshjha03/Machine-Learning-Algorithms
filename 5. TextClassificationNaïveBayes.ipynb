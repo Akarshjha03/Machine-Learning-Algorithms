{
  "nbformat": 4,
  "nbformat_minor": 0,
  "metadata": {
    "colab": {
      "provenance": []
    },
    "kernelspec": {
      "name": "python3",
      "display_name": "Python 3"
    },
    "language_info": {
      "name": "python"
    }
  },
  "cells": [
    {
      "cell_type": "markdown",
      "source": [
        "**Import Required Libraries**"
      ],
      "metadata": {
        "id": "xs-htnnO705E"
      }
    },
    {
      "cell_type": "code",
      "execution_count": 1,
      "metadata": {
        "id": "G3DI-se04ihK"
      },
      "outputs": [],
      "source": [
        "import pandas as pd\n",
        "import numpy as np\n",
        "import matplotlib.pyplot as plt\n",
        "import seaborn as sns\n",
        "\n",
        "from sklearn.model_selection import train_test_split\n",
        "from sklearn.feature_extraction.text import CountVectorizer, TfidfVectorizer\n",
        "from sklearn.naive_bayes import MultinomialNB\n",
        "from sklearn.metrics import accuracy_score, confusion_matrix, classification_report\n"
      ]
    },
    {
      "cell_type": "markdown",
      "source": [
        "**Load Dataset**"
      ],
      "metadata": {
        "id": "wMi6g7SQ7656"
      }
    },
    {
      "cell_type": "code",
      "source": [
        "from sklearn.datasets import fetch_20newsgroups\n",
        "\n",
        "# Load dataset\n",
        "news = fetch_20newsgroups(subset='all', shuffle=True, random_state=42)\n",
        "\n",
        "# Create DataFrame\n",
        "df = pd.DataFrame({'text': news.data, 'category': news.target})\n",
        "print(\"Dataset Shape:\", df.shape)\n",
        "df.head()\n"
      ],
      "metadata": {
        "colab": {
          "base_uri": "https://localhost:8080/",
          "height": 223
        },
        "id": "W8ujDLc-6leW",
        "outputId": "5c47ee2e-c2e1-4c27-fdf9-f0a5d9e57efa"
      },
      "execution_count": 2,
      "outputs": [
        {
          "output_type": "stream",
          "name": "stdout",
          "text": [
            "Dataset Shape: (18846, 2)\n"
          ]
        },
        {
          "output_type": "execute_result",
          "data": {
            "text/plain": [
              "                                                text  category\n",
              "0  From: Mamatha Devineni Ratnam <mr47+@andrew.cm...        10\n",
              "1  From: mblawson@midway.ecn.uoknor.edu (Matthew ...         3\n",
              "2  From: hilmi-er@dsv.su.se (Hilmi Eren)\\nSubject...        17\n",
              "3  From: guyd@austin.ibm.com (Guy Dawson)\\nSubjec...         3\n",
              "4  From: Alexander Samuel McDiarmid <am2o+@andrew...         4"
            ],
            "text/html": [
              "\n",
              "  <div id=\"df-040a3a46-b8d4-461b-8a40-f794570e2706\" class=\"colab-df-container\">\n",
              "    <div>\n",
              "<style scoped>\n",
              "    .dataframe tbody tr th:only-of-type {\n",
              "        vertical-align: middle;\n",
              "    }\n",
              "\n",
              "    .dataframe tbody tr th {\n",
              "        vertical-align: top;\n",
              "    }\n",
              "\n",
              "    .dataframe thead th {\n",
              "        text-align: right;\n",
              "    }\n",
              "</style>\n",
              "<table border=\"1\" class=\"dataframe\">\n",
              "  <thead>\n",
              "    <tr style=\"text-align: right;\">\n",
              "      <th></th>\n",
              "      <th>text</th>\n",
              "      <th>category</th>\n",
              "    </tr>\n",
              "  </thead>\n",
              "  <tbody>\n",
              "    <tr>\n",
              "      <th>0</th>\n",
              "      <td>From: Mamatha Devineni Ratnam &lt;mr47+@andrew.cm...</td>\n",
              "      <td>10</td>\n",
              "    </tr>\n",
              "    <tr>\n",
              "      <th>1</th>\n",
              "      <td>From: mblawson@midway.ecn.uoknor.edu (Matthew ...</td>\n",
              "      <td>3</td>\n",
              "    </tr>\n",
              "    <tr>\n",
              "      <th>2</th>\n",
              "      <td>From: hilmi-er@dsv.su.se (Hilmi Eren)\\nSubject...</td>\n",
              "      <td>17</td>\n",
              "    </tr>\n",
              "    <tr>\n",
              "      <th>3</th>\n",
              "      <td>From: guyd@austin.ibm.com (Guy Dawson)\\nSubjec...</td>\n",
              "      <td>3</td>\n",
              "    </tr>\n",
              "    <tr>\n",
              "      <th>4</th>\n",
              "      <td>From: Alexander Samuel McDiarmid &lt;am2o+@andrew...</td>\n",
              "      <td>4</td>\n",
              "    </tr>\n",
              "  </tbody>\n",
              "</table>\n",
              "</div>\n",
              "    <div class=\"colab-df-buttons\">\n",
              "\n",
              "  <div class=\"colab-df-container\">\n",
              "    <button class=\"colab-df-convert\" onclick=\"convertToInteractive('df-040a3a46-b8d4-461b-8a40-f794570e2706')\"\n",
              "            title=\"Convert this dataframe to an interactive table.\"\n",
              "            style=\"display:none;\">\n",
              "\n",
              "  <svg xmlns=\"http://www.w3.org/2000/svg\" height=\"24px\" viewBox=\"0 -960 960 960\">\n",
              "    <path d=\"M120-120v-720h720v720H120Zm60-500h600v-160H180v160Zm220 220h160v-160H400v160Zm0 220h160v-160H400v160ZM180-400h160v-160H180v160Zm440 0h160v-160H620v160ZM180-180h160v-160H180v160Zm440 0h160v-160H620v160Z\"/>\n",
              "  </svg>\n",
              "    </button>\n",
              "\n",
              "  <style>\n",
              "    .colab-df-container {\n",
              "      display:flex;\n",
              "      gap: 12px;\n",
              "    }\n",
              "\n",
              "    .colab-df-convert {\n",
              "      background-color: #E8F0FE;\n",
              "      border: none;\n",
              "      border-radius: 50%;\n",
              "      cursor: pointer;\n",
              "      display: none;\n",
              "      fill: #1967D2;\n",
              "      height: 32px;\n",
              "      padding: 0 0 0 0;\n",
              "      width: 32px;\n",
              "    }\n",
              "\n",
              "    .colab-df-convert:hover {\n",
              "      background-color: #E2EBFA;\n",
              "      box-shadow: 0px 1px 2px rgba(60, 64, 67, 0.3), 0px 1px 3px 1px rgba(60, 64, 67, 0.15);\n",
              "      fill: #174EA6;\n",
              "    }\n",
              "\n",
              "    .colab-df-buttons div {\n",
              "      margin-bottom: 4px;\n",
              "    }\n",
              "\n",
              "    [theme=dark] .colab-df-convert {\n",
              "      background-color: #3B4455;\n",
              "      fill: #D2E3FC;\n",
              "    }\n",
              "\n",
              "    [theme=dark] .colab-df-convert:hover {\n",
              "      background-color: #434B5C;\n",
              "      box-shadow: 0px 1px 3px 1px rgba(0, 0, 0, 0.15);\n",
              "      filter: drop-shadow(0px 1px 2px rgba(0, 0, 0, 0.3));\n",
              "      fill: #FFFFFF;\n",
              "    }\n",
              "  </style>\n",
              "\n",
              "    <script>\n",
              "      const buttonEl =\n",
              "        document.querySelector('#df-040a3a46-b8d4-461b-8a40-f794570e2706 button.colab-df-convert');\n",
              "      buttonEl.style.display =\n",
              "        google.colab.kernel.accessAllowed ? 'block' : 'none';\n",
              "\n",
              "      async function convertToInteractive(key) {\n",
              "        const element = document.querySelector('#df-040a3a46-b8d4-461b-8a40-f794570e2706');\n",
              "        const dataTable =\n",
              "          await google.colab.kernel.invokeFunction('convertToInteractive',\n",
              "                                                    [key], {});\n",
              "        if (!dataTable) return;\n",
              "\n",
              "        const docLinkHtml = 'Like what you see? Visit the ' +\n",
              "          '<a target=\"_blank\" href=https://colab.research.google.com/notebooks/data_table.ipynb>data table notebook</a>'\n",
              "          + ' to learn more about interactive tables.';\n",
              "        element.innerHTML = '';\n",
              "        dataTable['output_type'] = 'display_data';\n",
              "        await google.colab.output.renderOutput(dataTable, element);\n",
              "        const docLink = document.createElement('div');\n",
              "        docLink.innerHTML = docLinkHtml;\n",
              "        element.appendChild(docLink);\n",
              "      }\n",
              "    </script>\n",
              "  </div>\n",
              "\n",
              "\n",
              "    <div id=\"df-a3d4452e-43cc-4450-b788-3fa1d3c6996a\">\n",
              "      <button class=\"colab-df-quickchart\" onclick=\"quickchart('df-a3d4452e-43cc-4450-b788-3fa1d3c6996a')\"\n",
              "                title=\"Suggest charts\"\n",
              "                style=\"display:none;\">\n",
              "\n",
              "<svg xmlns=\"http://www.w3.org/2000/svg\" height=\"24px\"viewBox=\"0 0 24 24\"\n",
              "     width=\"24px\">\n",
              "    <g>\n",
              "        <path d=\"M19 3H5c-1.1 0-2 .9-2 2v14c0 1.1.9 2 2 2h14c1.1 0 2-.9 2-2V5c0-1.1-.9-2-2-2zM9 17H7v-7h2v7zm4 0h-2V7h2v10zm4 0h-2v-4h2v4z\"/>\n",
              "    </g>\n",
              "</svg>\n",
              "      </button>\n",
              "\n",
              "<style>\n",
              "  .colab-df-quickchart {\n",
              "      --bg-color: #E8F0FE;\n",
              "      --fill-color: #1967D2;\n",
              "      --hover-bg-color: #E2EBFA;\n",
              "      --hover-fill-color: #174EA6;\n",
              "      --disabled-fill-color: #AAA;\n",
              "      --disabled-bg-color: #DDD;\n",
              "  }\n",
              "\n",
              "  [theme=dark] .colab-df-quickchart {\n",
              "      --bg-color: #3B4455;\n",
              "      --fill-color: #D2E3FC;\n",
              "      --hover-bg-color: #434B5C;\n",
              "      --hover-fill-color: #FFFFFF;\n",
              "      --disabled-bg-color: #3B4455;\n",
              "      --disabled-fill-color: #666;\n",
              "  }\n",
              "\n",
              "  .colab-df-quickchart {\n",
              "    background-color: var(--bg-color);\n",
              "    border: none;\n",
              "    border-radius: 50%;\n",
              "    cursor: pointer;\n",
              "    display: none;\n",
              "    fill: var(--fill-color);\n",
              "    height: 32px;\n",
              "    padding: 0;\n",
              "    width: 32px;\n",
              "  }\n",
              "\n",
              "  .colab-df-quickchart:hover {\n",
              "    background-color: var(--hover-bg-color);\n",
              "    box-shadow: 0 1px 2px rgba(60, 64, 67, 0.3), 0 1px 3px 1px rgba(60, 64, 67, 0.15);\n",
              "    fill: var(--button-hover-fill-color);\n",
              "  }\n",
              "\n",
              "  .colab-df-quickchart-complete:disabled,\n",
              "  .colab-df-quickchart-complete:disabled:hover {\n",
              "    background-color: var(--disabled-bg-color);\n",
              "    fill: var(--disabled-fill-color);\n",
              "    box-shadow: none;\n",
              "  }\n",
              "\n",
              "  .colab-df-spinner {\n",
              "    border: 2px solid var(--fill-color);\n",
              "    border-color: transparent;\n",
              "    border-bottom-color: var(--fill-color);\n",
              "    animation:\n",
              "      spin 1s steps(1) infinite;\n",
              "  }\n",
              "\n",
              "  @keyframes spin {\n",
              "    0% {\n",
              "      border-color: transparent;\n",
              "      border-bottom-color: var(--fill-color);\n",
              "      border-left-color: var(--fill-color);\n",
              "    }\n",
              "    20% {\n",
              "      border-color: transparent;\n",
              "      border-left-color: var(--fill-color);\n",
              "      border-top-color: var(--fill-color);\n",
              "    }\n",
              "    30% {\n",
              "      border-color: transparent;\n",
              "      border-left-color: var(--fill-color);\n",
              "      border-top-color: var(--fill-color);\n",
              "      border-right-color: var(--fill-color);\n",
              "    }\n",
              "    40% {\n",
              "      border-color: transparent;\n",
              "      border-right-color: var(--fill-color);\n",
              "      border-top-color: var(--fill-color);\n",
              "    }\n",
              "    60% {\n",
              "      border-color: transparent;\n",
              "      border-right-color: var(--fill-color);\n",
              "    }\n",
              "    80% {\n",
              "      border-color: transparent;\n",
              "      border-right-color: var(--fill-color);\n",
              "      border-bottom-color: var(--fill-color);\n",
              "    }\n",
              "    90% {\n",
              "      border-color: transparent;\n",
              "      border-bottom-color: var(--fill-color);\n",
              "    }\n",
              "  }\n",
              "</style>\n",
              "\n",
              "      <script>\n",
              "        async function quickchart(key) {\n",
              "          const quickchartButtonEl =\n",
              "            document.querySelector('#' + key + ' button');\n",
              "          quickchartButtonEl.disabled = true;  // To prevent multiple clicks.\n",
              "          quickchartButtonEl.classList.add('colab-df-spinner');\n",
              "          try {\n",
              "            const charts = await google.colab.kernel.invokeFunction(\n",
              "                'suggestCharts', [key], {});\n",
              "          } catch (error) {\n",
              "            console.error('Error during call to suggestCharts:', error);\n",
              "          }\n",
              "          quickchartButtonEl.classList.remove('colab-df-spinner');\n",
              "          quickchartButtonEl.classList.add('colab-df-quickchart-complete');\n",
              "        }\n",
              "        (() => {\n",
              "          let quickchartButtonEl =\n",
              "            document.querySelector('#df-a3d4452e-43cc-4450-b788-3fa1d3c6996a button');\n",
              "          quickchartButtonEl.style.display =\n",
              "            google.colab.kernel.accessAllowed ? 'block' : 'none';\n",
              "        })();\n",
              "      </script>\n",
              "    </div>\n",
              "\n",
              "    </div>\n",
              "  </div>\n"
            ],
            "application/vnd.google.colaboratory.intrinsic+json": {
              "type": "dataframe",
              "variable_name": "df",
              "summary": "{\n  \"name\": \"df\",\n  \"rows\": 18846,\n  \"fields\": [\n    {\n      \"column\": \"text\",\n      \"properties\": {\n        \"dtype\": \"string\",\n        \"num_unique_values\": 18846,\n        \"samples\": [\n          \"From: shippert@cco.caltech.edu (Tim Shippert)\\nSubject: Re: Infield Fly Rule\\nOrganization: California Institute of Technology, Pasadena\\nLines: 25\\nNNTP-Posting-Host: sandman.caltech.edu\\n\\njrogoff@scott.skidmore.edu (jay rogoff) writes:\\n\\n>One last infield fly question that has always puzzled me and hasn't\\n>yet been addressed.  I believe the rule also does *not* deal with this\\n>situation:\\n\\n>However, if the Infield Fly is *not* caught, at what point can a runner\\n>legally leave his base w/o fear of being doubled off for advancing too\\n>early?  \\n\\n\\tThe runner can leave his base at any time.  If the ball is caught,\\nhe's got to tag up.  If it isn't caught, he _doesn't_ have to tag up at\\nall.  So, if he's feeling lucky, your runner at second can sprint for glory\\nas soon as the ball is popped up.  If it isn't caught, he's probably scored\\na run.  If it is, he's probably headed for AAA.  \\n\\n\\tThe only effect the infield fly has is to make the batter out,\\nthereby removing the force on the runners on base.  All other rules apply,\\nas if you were standing second with first open and the ball is popped up.\\n\\n-- \\nTim Shippert                                 shippert@cco.caltech.edu\\n\\\"If we are going to stick to this damned quantum-jumping, then I regret\\nthat I ever had anything to do with quantum theory.\\\"\\n\\t\\t\\t\\t\\t-E. Schrodinger\\n\",\n          \"From: mont@netcom.com (Mont Pierce)\\nSubject: Re: 8051 Microcontroller\\nOrganization: Netcom - Online Communication Services (408 241-9760 guest)\\nLines: 31\\n\\nIn article <1qppr5INNaqa@dns1.NMSU.Edu> mcole@spock (COLE) writes:\\n>I would like to experiment with the INTEL 8051 family.  Does anyone out  \\n>there know of any good FTP sites that might have compiliers, assemblers,  \\n>etc.?\\n\\nWell, it's not an FTP site, but I got an 800 number for Signetics BBS.\\n\\nThe Signetics BBS contain some pretty good items for the 8051.  I am\\ncurrently using the following files which I downloaded from them:\\n\\n    ml-asm51.zip      MetaLink's 8051 family macro assembler\\n    bootstrp.zip      Hex file Load-and-Go using 8051 uart\\n                      (allows you to download your program into a RAM\\n                       and then execute from RAM.  Works great.  Tell\\n                       me if you want more details).\\n    tutor51.zip       TSR for 8051 feature help screens\\n    \\nThey have lots of coding examples, assemblers, and misc. tools.\\n\\nSignetics BBS numbers are:    (800) 451-6644\\n                              (408) 991-2406\\n\\nHave fun,\\n-- \\nMont Pierce\\n\\n+-------------------------------------------------------------------------+\\n| Ham Call: KM6WT             Internet:  mont@netcom.com                  |\\n|    bands: 80/40/20/15/10/2  IBM vnet:  mont@vnet.ibm.com                |\\n|    modes: cw,ssb,fm                                                     |\\n+-------------------------------------------------------------------------+\\n\",\n          \"From: Amruth Laxman <al26+@andrew.cmu.edu>\\nSubject: Surviving Large Accelerations?\\nOrganization: Junior, Electrical and Computer Engineering, Carnegie Mellon, Pittsburgh, PA\\nLines: 16\\nNNTP-Posting-Host: po5.andrew.cmu.edu\\n\\nHi,\\n    I was reading through \\\"The Spaceflight Handbook\\\" and somewhere in\\nthere the author discusses solar sails and the forces acting on them\\nwhen and if they try to gain an initial acceleration by passing close to\\nthe sun in a hyperbolic orbit. The magnitude of such accelerations he\\nestimated to be on the order of 700g. He also says that this is may not\\nbe a big problem for manned craft because humans (and this was published\\nin 1986) have already withstood accelerations of 45g. All this is very\\nlong-winded but here's my question finally - Are 45g accelerations in\\nfact humanly tolerable? - with the aid of any mechanical devices of\\ncourse. If these are possible, what is used to absorb the acceleration?\\nCan this be extended to larger accelerations?\\n\\nThanks is advance...\\n-Amruth Laxman\\n\\n\"\n        ],\n        \"semantic_type\": \"\",\n        \"description\": \"\"\n      }\n    },\n    {\n      \"column\": \"category\",\n      \"properties\": {\n        \"dtype\": \"number\",\n        \"std\": 5,\n        \"min\": 0,\n        \"max\": 19,\n        \"num_unique_values\": 20,\n        \"samples\": [\n          10,\n          18,\n          6\n        ],\n        \"semantic_type\": \"\",\n        \"description\": \"\"\n      }\n    }\n  ]\n}"
            }
          },
          "metadata": {},
          "execution_count": 2
        }
      ]
    },
    {
      "cell_type": "markdown",
      "source": [
        "**Text Preprocessing**"
      ],
      "metadata": {
        "id": "4W39OseV8C66"
      }
    },
    {
      "cell_type": "code",
      "source": [
        "# Split dataset\n",
        "X_train, X_test, y_train, y_test = train_test_split(df['text'], df['category'], test_size=0.25, random_state=42)\n",
        "\n",
        "# Convert text into numerical vectors\n",
        "tfidf = TfidfVectorizer(stop_words='english', max_features=5000)\n",
        "X_train_tfidf = tfidf.fit_transform(X_train)\n",
        "X_test_tfidf = tfidf.transform(X_test)\n",
        "\n",
        "print(\"Training Data Shape:\", X_train_tfidf.shape)\n"
      ],
      "metadata": {
        "colab": {
          "base_uri": "https://localhost:8080/"
        },
        "id": "Rr1682cg6qyh",
        "outputId": "9beb6d38-28af-4bd2-f71e-58360e4dca42"
      },
      "execution_count": 3,
      "outputs": [
        {
          "output_type": "stream",
          "name": "stdout",
          "text": [
            "Training Data Shape: (14134, 5000)\n"
          ]
        }
      ]
    },
    {
      "cell_type": "markdown",
      "source": [
        "**Train Naïve Bayes Classifier**"
      ],
      "metadata": {
        "id": "Odjh9xrr8Lss"
      }
    },
    {
      "cell_type": "code",
      "source": [
        "nb = MultinomialNB()\n",
        "nb.fit(X_train_tfidf, y_train)\n",
        "\n",
        "# Predictions\n",
        "y_pred = nb.predict(X_test_tfidf)\n"
      ],
      "metadata": {
        "id": "KancEdbV6xb-"
      },
      "execution_count": 5,
      "outputs": []
    },
    {
      "cell_type": "markdown",
      "source": [
        "**Evaluate Model Performance**"
      ],
      "metadata": {
        "id": "XlQBwupg8QOy"
      }
    },
    {
      "cell_type": "code",
      "source": [
        "# Accuracy\n",
        "print(\"Accuracy:\", accuracy_score(y_test, y_pred))\n",
        "\n",
        "# Detailed Classification Report\n",
        "print(\"\\nClassification Report:\\n\", classification_report(y_test, y_pred, target_names=news.target_names))\n"
      ],
      "metadata": {
        "colab": {
          "base_uri": "https://localhost:8080/"
        },
        "id": "RxPv3QK_69Lr",
        "outputId": "3ec91a3c-4fb1-4668-f5a8-2ccf8f83e520"
      },
      "execution_count": 6,
      "outputs": [
        {
          "output_type": "stream",
          "name": "stdout",
          "text": [
            "Accuracy: 0.849320882852292\n",
            "\n",
            "Classification Report:\n",
            "                           precision    recall  f1-score   support\n",
            "\n",
            "             alt.atheism       0.85      0.86      0.86       198\n",
            "           comp.graphics       0.68      0.80      0.73       245\n",
            " comp.os.ms-windows.misc       0.79      0.78      0.78       242\n",
            "comp.sys.ibm.pc.hardware       0.67      0.76      0.71       238\n",
            "   comp.sys.mac.hardware       0.86      0.82      0.84       250\n",
            "          comp.windows.x       0.87      0.85      0.86       260\n",
            "            misc.forsale       0.82      0.81      0.82       241\n",
            "               rec.autos       0.87      0.89      0.88       244\n",
            "         rec.motorcycles       0.88      0.92      0.90       219\n",
            "      rec.sport.baseball       0.92      0.93      0.93       261\n",
            "        rec.sport.hockey       0.90      0.96      0.93       245\n",
            "               sci.crypt       0.96      0.94      0.95       251\n",
            "         sci.electronics       0.86      0.76      0.81       249\n",
            "                 sci.med       0.96      0.87      0.91       249\n",
            "               sci.space       0.88      0.93      0.91       240\n",
            "  soc.religion.christian       0.74      0.98      0.85       245\n",
            "      talk.politics.guns       0.81      0.93      0.87       230\n",
            "   talk.politics.mideast       0.96      0.94      0.95       234\n",
            "      talk.politics.misc       0.95      0.71      0.82       207\n",
            "      talk.religion.misc       0.91      0.37      0.52       164\n",
            "\n",
            "                accuracy                           0.85      4712\n",
            "               macro avg       0.86      0.84      0.84      4712\n",
            "            weighted avg       0.86      0.85      0.85      4712\n",
            "\n"
          ]
        }
      ]
    },
    {
      "cell_type": "markdown",
      "source": [
        "**Confusion Matrix Visualization**"
      ],
      "metadata": {
        "id": "5JcNI5sN8VIX"
      }
    },
    {
      "cell_type": "code",
      "source": [
        "cm = confusion_matrix(y_test, y_pred)\n",
        "\n",
        "plt.figure(figsize=(10,8))\n",
        "sns.heatmap(cm, cmap='Blues', linewidths=0.5)\n",
        "plt.title(\"Confusion Matrix – Naïve Bayes Text Classification\")\n",
        "plt.xlabel(\"Predicted\")\n",
        "plt.ylabel(\"True\")\n",
        "plt.show()\n"
      ],
      "metadata": {
        "colab": {
          "base_uri": "https://localhost:8080/",
          "height": 718
        },
        "id": "73KJYDJk7DFt",
        "outputId": "3659518c-b62a-43b9-dd04-b92d6656ef44"
      },
      "execution_count": 7,
      "outputs": [
        {
          "output_type": "display_data",
          "data": {
            "text/plain": [
              "<Figure size 1000x800 with 2 Axes>"
            ],
            "image/png": "[encoded data removed]"
          },
          "metadata": {}
        }
      ]
    },
    {
      "cell_type": "markdown",
      "source": [
        "**Predict Custom Text Samples**"
      ],
      "metadata": {
        "id": "yzQqzb5Z8ZAn"
      }
    },
    {
      "cell_type": "code",
      "source": [
        "# Test on your own text samples\n",
        "samples = [\n",
        "    \"I love watching football and cricket.\",\n",
        "    \"NASA discovered a new exoplanet near the Milky Way.\",\n",
        "    \"The new iPhone has amazing features and battery life.\"\n",
        "]\n",
        "\n",
        "sample_features = tfidf.transform(samples)\n",
        "predicted_categories = nb.predict(sample_features)\n",
        "\n",
        "for text, label in zip(samples, predicted_categories):\n",
        "    print(f\"\\n📝 Text: {text}\\n🔹 Predicted Category: {news.target_names[label]}\")\n"
      ],
      "metadata": {
        "colab": {
          "base_uri": "https://localhost:8080/"
        },
        "id": "FAvMTZ1L7HSp",
        "outputId": "b7dd4ca6-2958-4fe5-eb49-38b44741a75e"
      },
      "execution_count": 8,
      "outputs": [
        {
          "output_type": "stream",
          "name": "stdout",
          "text": [
            "\n",
            "📝 Text: I love watching football and cricket.\n",
            "🔹 Predicted Category: rec.sport.baseball\n",
            "\n",
            "📝 Text: NASA discovered a new exoplanet near the Milky Way.\n",
            "🔹 Predicted Category: sci.space\n",
            "\n",
            "📝 Text: The new iPhone has amazing features and battery life.\n",
            "🔹 Predicted Category: misc.forsale\n"
          ]
        }
      ]
    }
  ]
}