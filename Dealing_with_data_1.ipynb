{
 "cells": [
  {
   "cell_type": "markdown",
   "id": "cdc90398-864a-4d40-b9fd-059d4f232357",
   "metadata": {},
   "source": [
    "## Pandas Library"
   ]
  },
  {
   "cell_type": "code",
   "execution_count": 1,
   "id": "4dd3becf-b935-44b3-b17a-eb6766ebd50a",
   "metadata": {},
   "outputs": [],
   "source": [
    "import numpy as np"
   ]
  },
  {
   "cell_type": "code",
   "execution_count": 2,
   "id": "29d0f988-401c-47d5-9830-f80123db4f15",
   "metadata": {},
   "outputs": [],
   "source": [
    "array_2d = np.array([[1, 2, 3, 4, 5, 6, 7, 8, 9, 10], [11, 12, 13, 14, 15, 16, 17, 18, 19, 20]])"
   ]
  },
  {
   "cell_type": "code",
   "execution_count": 3,
   "id": "d2df45af-42c0-4f72-8581-b440ee2b0281",
   "metadata": {},
   "outputs": [
    {
     "name": "stdout",
     "output_type": "stream",
     "text": [
      "[[ 1  2  3  4  5  6  7  8  9 10]\n",
      " [11 12 13 14 15 16 17 18 19 20]]\n"
     ]
    }
   ],
   "source": [
    "print(array_2d)"
   ]
  },
  {
   "cell_type": "code",
   "execution_count": 4,
   "id": "8f7831be-4761-4816-9016-b5535d732697",
   "metadata": {},
   "outputs": [],
   "source": [
    "reshape_array = array_2d.reshape(10, 2)"
   ]
  },
  {
   "cell_type": "code",
   "execution_count": 5,
   "id": "46fe2026-2370-4a1b-8b96-4d0dd644b5d4",
   "metadata": {},
   "outputs": [
    {
     "name": "stdout",
     "output_type": "stream",
     "text": [
      "[[ 1  2]\n",
      " [ 3  4]\n",
      " [ 5  6]\n",
      " [ 7  8]\n",
      " [ 9 10]\n",
      " [11 12]\n",
      " [13 14]\n",
      " [15 16]\n",
      " [17 18]\n",
      " [19 20]]\n"
     ]
    }
   ],
   "source": [
    "print(reshape_array)"
   ]
  },
  {
   "cell_type": "code",
   "execution_count": 6,
   "id": "5d9b832c-9407-41dc-86d3-f664d80281d7",
   "metadata": {},
   "outputs": [
    {
     "name": "stdout",
     "output_type": "stream",
     "text": [
      "[[1 0]\n",
      " [1 0]\n",
      " [1 0]\n",
      " [1 0]\n",
      " [1 0]\n",
      " [1 0]\n",
      " [1 0]\n",
      " [1 0]\n",
      " [1 0]\n",
      " [1 0]]\n"
     ]
    }
   ],
   "source": [
    "print(reshape_array%2)"
   ]
  },
  {
   "cell_type": "code",
   "execution_count": 7,
   "id": "760277ce-8a72-494d-9b82-92dddf2f7889",
   "metadata": {},
   "outputs": [
    {
     "name": "stdout",
     "output_type": "stream",
     "text": [
      "Sum: 210\n"
     ]
    }
   ],
   "source": [
    "print(\"Sum:\", np.sum(array_2d))"
   ]
  },
  {
   "cell_type": "code",
   "execution_count": 8,
   "id": "ebe64f9b-207f-451d-9874-a9c5ec09a430",
   "metadata": {},
   "outputs": [
    {
     "name": "stdout",
     "output_type": "stream",
     "text": [
      "[[-1  0  1  2  3  4  5  6  7  8]\n",
      " [ 9 10 11 12 13 14 15 16 17 18]]\n"
     ]
    }
   ],
   "source": [
    "difference = array_2d - 2\n",
    "print(difference)"
   ]
  },
  {
   "cell_type": "code",
   "execution_count": 9,
   "id": "9c61adbd-f4ab-4e3e-8ebb-f18f1b12a678",
   "metadata": {},
   "outputs": [
    {
     "name": "stdout",
     "output_type": "stream",
     "text": [
      "Product: -2102132736\n"
     ]
    }
   ],
   "source": [
    "print(\"Product:\", np.prod(array_2d))"
   ]
  },
  {
   "cell_type": "code",
   "execution_count": 10,
   "id": "58e7c33c-61f3-45e3-8159-c9b1b85140b8",
   "metadata": {},
   "outputs": [
    {
     "name": "stdout",
     "output_type": "stream",
     "text": [
      "[[ 0.5  1.   1.5  2.   2.5  3.   3.5  4.   4.5  5. ]\n",
      " [ 5.5  6.   6.5  7.   7.5  8.   8.5  9.   9.5 10. ]]\n"
     ]
    }
   ],
   "source": [
    "division = array_2d / 2\n",
    "print(division)"
   ]
  },
  {
   "cell_type": "markdown",
   "id": "7a2ed24e-b88b-4ebd-9234-d17874b6f87e",
   "metadata": {},
   "source": [
    "## Numpy Library"
   ]
  },
  {
   "cell_type": "code",
   "execution_count": 11,
   "id": "130c4696-1734-417b-b3ec-146785a780a7",
   "metadata": {},
   "outputs": [],
   "source": [
    "import pandas as pd"
   ]
  },
  {
   "cell_type": "code",
   "execution_count": 12,
   "id": "8ea34d56-86bc-4aee-91f2-310fbbd163d0",
   "metadata": {},
   "outputs": [],
   "source": [
    "data = {\n",
    "    \"Name\": [\"Akarsh\", \"Ajit\", \"Bishal\", \"Vishal\"],\n",
    "    \"Age\": [23, 33, 43, 53],\n",
    "    \"Score\": [87, 90, 73, None]\n",
    "}"
   ]
  },
  {
   "cell_type": "code",
   "execution_count": 13,
   "id": "e1e64abf-214e-41b5-b831-47dc7ef67b0a",
   "metadata": {},
   "outputs": [],
   "source": [
    "df = pd.DataFrame(data)"
   ]
  },
  {
   "cell_type": "code",
   "execution_count": 14,
   "id": "7755c1e3-9afb-439c-93c4-8f167d86e0ca",
   "metadata": {},
   "outputs": [
    {
     "name": "stdout",
     "output_type": "stream",
     "text": [
      "DataFrame:\n",
      "      Name  Age  Score\n",
      "0  Akarsh   23   87.0\n",
      "1    Ajit   33   90.0\n",
      "2  Bishal   43   73.0\n",
      "3  Vishal   53    NaN\n"
     ]
    }
   ],
   "source": [
    "print(\"DataFrame:\\n\", df)"
   ]
  },
  {
   "cell_type": "code",
   "execution_count": 15,
   "id": "b49b152c-b855-4d38-84fd-f1cc7f6db9c2",
   "metadata": {},
   "outputs": [
    {
     "name": "stdout",
     "output_type": "stream",
     "text": [
      "Mean Score: 87.0\n"
     ]
    }
   ],
   "source": [
    "print(\"Mean Score:\", df[\"Score\"].median())"
   ]
  },
  {
   "cell_type": "code",
   "execution_count": 16,
   "id": "8824daf3-affb-4887-aea3-4a9b680df60f",
   "metadata": {},
   "outputs": [
    {
     "name": "stdout",
     "output_type": "stream",
     "text": [
      "Cleaned data:\n",
      "      Name  Age  Score\n",
      "0  Akarsh   23   87.0\n",
      "1    Ajit   33   90.0\n",
      "2  Bishal   43   73.0\n",
      "3  Vishal   53   87.0\n"
     ]
    }
   ],
   "source": [
    "df[\"Score\"] = df[\"Score\"].fillna(df[\"Score\"].median())\n",
    "print(\"Cleaned data:\\n\", df)"
   ]
  },
  {
   "cell_type": "markdown",
   "id": "f765b05b-7769-4b38-93f8-adba5a33a270",
   "metadata": {},
   "source": [
    "## Statistics Library"
   ]
  },
  {
   "cell_type": "code",
   "execution_count": 17,
   "id": "855726fb-f2f7-480c-afc8-8665fa0ce14b",
   "metadata": {},
   "outputs": [],
   "source": [
    "import statistics as stat\n",
    "\n",
    "# Sample data\n",
    "points = [53, 90, 89, 27, 45, 39, 100]"
   ]
  },
  {
   "cell_type": "code",
   "execution_count": 18,
   "id": "45033af1-07f2-4884-b601-8f5c6a5bd2f1",
   "metadata": {},
   "outputs": [
    {
     "name": "stdout",
     "output_type": "stream",
     "text": [
      "Mean: 63.285714285714285\n",
      "Median: 53\n",
      "Variance: 844.9047619047619\n",
      "Standard Deviation: 29.06724551629827\n"
     ]
    }
   ],
   "source": [
    "print(\"Mean:\", stat.mean(points))\n",
    "print(\"Median:\", stat.median(points))\n",
    "print(\"Variance:\", stat.variance(points))\n",
    "print(\"Standard Deviation:\", stat.stdev(points))"
   ]
  },
  {
   "cell_type": "code",
   "execution_count": null,
   "id": "10cc5c7d-b451-4c75-a016-d4ded092c4c4",
   "metadata": {},
   "outputs": [],
   "source": []
  }
 ],
 "metadata": {
  "kernelspec": {
   "display_name": "Python 3 (ipykernel)",
   "language": "python",
   "name": "python3"
  },
  "language_info": {
   "codemirror_mode": {
    "name": "ipython",
    "version": 3
   },
   "file_extension": ".py",
   "mimetype": "text/x-python",
   "name": "python",
   "nbconvert_exporter": "python",
   "pygments_lexer": "ipython3",
   "version": "3.12.0"
  }
 },
 "nbformat": 4,
 "nbformat_minor": 5
}
